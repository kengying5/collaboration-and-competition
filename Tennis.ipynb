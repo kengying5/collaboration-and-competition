{
 "cells": [
  {
   "cell_type": "markdown",
   "metadata": {},
   "source": [
    "# Collaboration and Competition\n",
    "\n",
    "---\n",
    "\n",
    "You are welcome to use this coding environment to train your agent for the project.  Follow the instructions below to get started!\n",
    "\n",
    "### 1. Start the Environment\n",
    "\n",
    "Run the next code cell to install a few packages.  This line will take a few minutes to run!"
   ]
  },
  {
   "cell_type": "code",
   "execution_count": 1,
   "metadata": {},
   "outputs": [
    {
     "name": "stdout",
     "output_type": "stream",
     "text": [
      "\u001b[31mtensorflow 1.7.1 has requirement numpy>=1.13.3, but you'll have numpy 1.12.1 which is incompatible.\u001b[0m\r\n",
      "\u001b[31mipython 6.5.0 has requirement prompt-toolkit<2.0.0,>=1.0.15, but you'll have prompt-toolkit 2.0.10 which is incompatible.\u001b[0m\r\n"
     ]
    }
   ],
   "source": [
    "!pip -q install ./python"
   ]
  },
  {
   "cell_type": "markdown",
   "metadata": {},
   "source": [
    "The environment is already saved in the Workspace and can be accessed at the file path provided below. "
   ]
  },
  {
   "cell_type": "code",
   "execution_count": 2,
   "metadata": {},
   "outputs": [
    {
     "name": "stderr",
     "output_type": "stream",
     "text": [
      "INFO:unityagents:\n",
      "'Academy' started successfully!\n",
      "Unity Academy name: Academy\n",
      "        Number of Brains: 1\n",
      "        Number of External Brains : 1\n",
      "        Lesson number : 0\n",
      "        Reset Parameters :\n",
      "\t\t\n",
      "Unity brain name: TennisBrain\n",
      "        Number of Visual Observations (per agent): 0\n",
      "        Vector Observation space type: continuous\n",
      "        Vector Observation space size (per agent): 8\n",
      "        Number of stacked Vector Observation: 3\n",
      "        Vector Action space type: continuous\n",
      "        Vector Action space size (per agent): 2\n",
      "        Vector Action descriptions: , \n"
     ]
    }
   ],
   "source": [
    "from unityagents import UnityEnvironment\n",
    "import numpy as np\n",
    "\n",
    "env = UnityEnvironment(file_name=\"/data/Tennis_Linux_NoVis/Tennis\")"
   ]
  },
  {
   "cell_type": "markdown",
   "metadata": {},
   "source": [
    "Environments contain **_brains_** which are responsible for deciding the actions of their associated agents. Here we check for the first brain available, and set it as the default brain we will be controlling from Python."
   ]
  },
  {
   "cell_type": "code",
   "execution_count": 4,
   "metadata": {},
   "outputs": [],
   "source": [
    "# get the default brain\n",
    "brain_name = env.brain_names[0]\n",
    "brain = env.brains[brain_name]"
   ]
  },
  {
   "cell_type": "markdown",
   "metadata": {},
   "source": [
    "### 2. Examine the State and Action Spaces\n",
    "\n",
    "Run the code cell below to print some information about the environment."
   ]
  },
  {
   "cell_type": "code",
   "execution_count": 5,
   "metadata": {},
   "outputs": [
    {
     "name": "stdout",
     "output_type": "stream",
     "text": [
      "Number of agents: 2\n",
      "Size of each action: 2\n",
      "There are 2 agents. Each observes a state with length: 24\n",
      "The state for the first agent looks like: [ 0.          0.          0.          0.          0.          0.          0.\n",
      "  0.          0.          0.          0.          0.          0.          0.\n",
      "  0.          0.         -6.65278625 -1.5        -0.          0.\n",
      "  6.83172083  6.         -0.          0.        ]\n"
     ]
    }
   ],
   "source": [
    "# reset the environment\n",
    "env_info = env.reset(train_mode=True)[brain_name]\n",
    "\n",
    "# number of agents \n",
    "num_agents = len(env_info.agents)\n",
    "print('Number of agents:', num_agents)\n",
    "\n",
    "# size of each action\n",
    "action_size = brain.vector_action_space_size\n",
    "print('Size of each action:', action_size)\n",
    "\n",
    "# examine the state space \n",
    "states = env_info.vector_observations\n",
    "state_size = states.shape[1]\n",
    "print('There are {} agents. Each observes a state with length: {}'.format(states.shape[0], state_size))\n",
    "print('The state for the first agent looks like:', states[0])"
   ]
  },
  {
   "cell_type": "markdown",
   "metadata": {},
   "source": [
    "### 3. Take Random Actions in the Environment\n",
    "\n",
    "In the next code cell, you will learn how to use the Python API to control the agent and receive feedback from the environment.\n",
    "\n",
    "Note that **in this coding environment, you will not be able to watch the agents while they are training**, and you should set `train_mode=True` to restart the environment."
   ]
  },
  {
   "cell_type": "code",
   "execution_count": 6,
   "metadata": {},
   "outputs": [
    {
     "name": "stdout",
     "output_type": "stream",
     "text": [
      "Total score (averaged over agents) this episode: -0.004999999888241291\n",
      "Total score (averaged over agents) this episode: -0.004999999888241291\n",
      "Total score (averaged over agents) this episode: -0.004999999888241291\n",
      "Total score (averaged over agents) this episode: 0.04500000085681677\n",
      "Total score (averaged over agents) this episode: -0.004999999888241291\n"
     ]
    }
   ],
   "source": [
    "for i in range(5):                                         # play game for 5 episodes\n",
    "    env_info = env.reset(train_mode=False)[brain_name]     # reset the environment    \n",
    "    states = env_info.vector_observations                  # get the current state (for each agent)\n",
    "    scores = np.zeros(num_agents)                          # initialize the score (for each agent)\n",
    "    while True:\n",
    "        actions = np.random.randn(num_agents, action_size) # select an action (for each agent)\n",
    "        actions = np.clip(actions, -1, 1)                  # all actions between -1 and 1\n",
    "        env_info = env.step(actions)[brain_name]           # send all actions to tne environment\n",
    "        next_states = env_info.vector_observations         # get next state (for each agent)\n",
    "        rewards = env_info.rewards                         # get reward (for each agent)\n",
    "        dones = env_info.local_done                        # see if episode finished\n",
    "        scores += env_info.rewards                         # update the score (for each agent)\n",
    "        states = next_states                               # roll over states to next time step\n",
    "        if np.any(dones):                                  # exit loop if episode finished\n",
    "            break\n",
    "    print('Total score (averaged over agents) this episode: {}'.format(np.mean(scores)))"
   ]
  },
  {
   "cell_type": "markdown",
   "metadata": {},
   "source": [
    "When finished, you can close the environment."
   ]
  },
  {
   "cell_type": "code",
   "execution_count": null,
   "metadata": {},
   "outputs": [],
   "source": [
    "#env.close()"
   ]
  },
  {
   "cell_type": "markdown",
   "metadata": {},
   "source": [
    "### 4. It's Your Turn!\n",
    "\n",
    "Now it's your turn to train your own agent to solve the environment!  A few **important notes**:\n",
    "- When training the environment, set `train_mode=True`, so that the line for resetting the environment looks like the following:\n",
    "```python\n",
    "env_info = env.reset(train_mode=True)[brain_name]\n",
    "```\n",
    "- To structure your work, you're welcome to work directly in this Jupyter notebook, or you might like to start over with a new file!  You can see the list of files in the workspace by clicking on **_Jupyter_** in the top left corner of the notebook.\n",
    "- In this coding environment, you will not be able to watch the agents while they are training.  However, **_after training the agents_**, you can download the saved model weights to watch the agents on your own machine! "
   ]
  },
  {
   "cell_type": "code",
   "execution_count": 8,
   "metadata": {},
   "outputs": [],
   "source": [
    "import numpy as np\n",
    "import random\n",
    "import torch\n",
    "from collections import deque\n",
    "import matplotlib.pyplot as plt\n",
    "%matplotlib inline\n",
    "\n",
    "from ddpg_agent import Agent\n",
    "%load_ext autoreload\n",
    "%autoreload 2\n",
    "\n",
    "import warnings\n",
    "warnings.filterwarnings('ignore')\n",
    "\n",
    "agent = Agent(state_size=state_size, action_size=action_size, random_seed=2)"
   ]
  },
  {
   "cell_type": "code",
   "execution_count": 11,
   "metadata": {},
   "outputs": [],
   "source": [
    "# Utilities functions\n",
    "def unity_step_wrap(actions):\n",
    "    \"\"\"Unity Environment action wrapper\n",
    "    \n",
    "    Params\n",
    "    ======\n",
    "        action (int): action to take\n",
    "     \n",
    "    Return\n",
    "    ======\n",
    "        OpenAI-like action outcome (tuple): bundled (next_state, reward, done)\n",
    "    \"\"\"\n",
    "    env_info = env.step(actions)[brain_name]        # send the action to the environment\n",
    "    next_states = env_info.vector_observations      # get the next state\n",
    "    rewards = env_info.rewards                      # get the reward\n",
    "    dones = env_info.local_done                     # see if episode has finished\n",
    "    return (next_states, rewards, dones)\n",
    "\n",
    "def moving_average(a, n=3) :\n",
    "    ret = np.cumsum(a, dtype=float)\n",
    "    ret[n:] = ret[n:] - ret[:-n]\n",
    "    return ret[n - 1:] / n\n",
    "\n",
    "def plot_scores(scores, smooth_window=100):\n",
    "    scores_smoothed = moving_average(scores, smooth_window)\n",
    "    # plot the scores\n",
    "    fig = plt.figure(figsize=(8, 6))\n",
    "    ax = fig.add_subplot(111)\n",
    "    plt.plot(np.arange(len(scores)), scores, linewidth=1, alpha=0.4, color='steelblue')\n",
    "    plt.plot(np.arange(len(scores))[smooth_window-1:,], scores_smoothed, linewidth=1.5, alpha=1, color='firebrick')\n",
    "    plt.ylabel('Score')\n",
    "    plt.xlabel('Episode #')\n",
    "    plt.show()\n",
    "    return fig\n",
    "\n",
    "def load_checkpoint(filepath):\n",
    "    checkpoint = torch.load(filepath)\n",
    "    return (checkpoint['actor'], checkpoint['critic'], checkpoint['scores'])"
   ]
  },
  {
   "cell_type": "code",
   "execution_count": 12,
   "metadata": {},
   "outputs": [],
   "source": [
    "def ddpg(n_episodes=1000, max_t=1000, print_every=100, learn_every=5, min_noise=0.02, solved_score = 0.5, name=\"default\"):\n",
    "    scores_deque = deque(maxlen=print_every)\n",
    "    scores = []\n",
    "    noise = 1.0\n",
    "    min_noise = min_noise\n",
    "    noise_reduction = min_noise**(1/n_episodes) # Reaches min_noise after n_episodes with exponential decrease\n",
    "      \n",
    "    for i_episode in range(1, n_episodes+1):\n",
    "        env_info = env.reset(train_mode=True)[brain_name]\n",
    "        states = env_info.vector_observations                     \n",
    "        \n",
    "        agent.reset()\n",
    "        scores_episode = np.zeros(num_agents)\n",
    "        noise *= noise_reduction\n",
    "        \n",
    "        for t in range(max_t):\n",
    "            actions = agent.act(states, noise=max(noise, min_noise))\n",
    "            next_states, rewards, dones = unity_step_wrap(actions)\n",
    "            \n",
    "            for state, action, reward, next_state, done in zip(states, actions, rewards, next_states, dones):\n",
    "                agent.save_experience(state, action, reward, next_state, done)\n",
    "                \n",
    "            scores_episode += rewards\n",
    "            states = next_states                                \n",
    "                       \n",
    "            if t % learn_every == 0:\n",
    "                agent.step()\n",
    "            \n",
    "            if np.any(dones):\n",
    "                break \n",
    "        \n",
    "        score = np.max(scores_episode)\n",
    "        scores_deque.append(score)\n",
    "        scores.append(score)\n",
    "        \n",
    "        print('\\rEpisode {}\\tAverage Score: {:.2f}'.format(i_episode, np.mean(scores_deque)), end=\"\")\n",
    "    \n",
    "        # Save checkpoint\n",
    "        checkpoint = {\n",
    "            'actor': agent.actor_local.state_dict(),\n",
    "            'critic': agent.critic_local.state_dict(),\n",
    "            'scores': scores\n",
    "        }\n",
    "        torch.save(checkpoint, 'saved-checkpoints/checkpoint-' + name + '.pth')\n",
    "        \n",
    "        if i_episode % print_every == 0:\n",
    "            print('\\rEpisode {}\\tAverage Score: {:.2f}'.format(i_episode, np.mean(scores_deque)))\n",
    "            \n",
    "        if np.mean(scores_deque) > solved_score:\n",
    "            break\n",
    "        \n",
    "    return scores"
   ]
  },
  {
   "cell_type": "code",
   "execution_count": 14,
   "metadata": {},
   "outputs": [
    {
     "name": "stdout",
     "output_type": "stream",
     "text": [
      "Episode 100\tAverage Score: 0.01\n",
      "Episode 200\tAverage Score: 0.01\n",
      "Episode 300\tAverage Score: 0.00\n",
      "Episode 400\tAverage Score: 0.03\n",
      "Episode 500\tAverage Score: 0.05\n",
      "Episode 600\tAverage Score: 0.05\n",
      "Episode 700\tAverage Score: 0.02\n",
      "Episode 800\tAverage Score: 0.04\n",
      "Episode 900\tAverage Score: 0.05\n",
      "Episode 1000\tAverage Score: 0.01\n",
      "Episode 1100\tAverage Score: 0.00\n",
      "Episode 1200\tAverage Score: 0.04\n",
      "Episode 1300\tAverage Score: 0.09\n",
      "Episode 1400\tAverage Score: 0.09\n",
      "Episode 1500\tAverage Score: 0.11\n",
      "Episode 1600\tAverage Score: 0.13\n",
      "Episode 1700\tAverage Score: 0.31\n",
      "Episode 1800\tAverage Score: 0.26\n",
      "Episode 1900\tAverage Score: 0.22\n",
      "Episode 2000\tAverage Score: 0.28\n",
      "Episode 2100\tAverage Score: 0.24\n",
      "Episode 2200\tAverage Score: 0.26\n",
      "Episode 2300\tAverage Score: 0.39\n",
      "Episode 2354\tAverage Score: 0.50"
     ]
    }
   ],
   "source": [
    "scores = ddpg(n_episodes=10000, min_noise=0.02, learn_every=5, name='solved')"
   ]
  },
  {
   "cell_type": "code",
   "execution_count": 15,
   "metadata": {},
   "outputs": [
    {
     "data": {
      "image/png": "[encoded data removed]",
      "text/plain": [
       "<matplotlib.figure.Figure at 0x7f5aa719e160>"
      ]
     },
     "metadata": {
      "needs_background": "light"
     },
     "output_type": "display_data"
    }
   ],
   "source": [
    "_, _, scores_solved = load_checkpoint('saved-checkpoints/checkpoint-solved.pth')\n",
    "figure = plot_scores(scores_solved)"
   ]
  },
  {
   "cell_type": "code",
   "execution_count": 16,
   "metadata": {},
   "outputs": [],
   "source": [
    "env.close()"
   ]
  },
  {
   "cell_type": "code",
   "execution_count": null,
   "metadata": {},
   "outputs": [],
   "source": []
  },
  {
   "cell_type": "code",
   "execution_count": null,
   "metadata": {},
   "outputs": [],
   "source": []
  },
  {
   "cell_type": "code",
   "execution_count": null,
   "metadata": {},
   "outputs": [],
   "source": []
  },
  {
   "cell_type": "code",
   "execution_count": null,
   "metadata": {},
   "outputs": [],
   "source": []
  },
  {
   "cell_type": "code",
   "execution_count": null,
   "metadata": {},
   "outputs": [],
   "source": []
  },
  {
   "cell_type": "code",
   "execution_count": null,
   "metadata": {},
   "outputs": [],
   "source": []
  },
  {
   "cell_type": "markdown",
   "metadata": {},
   "source": [
    "# 1st failed model"
   ]
  },
  {
   "cell_type": "code",
   "execution_count": null,
   "metadata": {},
   "outputs": [],
   "source": []
  },
  {
   "cell_type": "code",
   "execution_count": null,
   "metadata": {},
   "outputs": [],
   "source": []
  },
  {
   "cell_type": "code",
   "execution_count": null,
   "metadata": {},
   "outputs": [],
   "source": []
  },
  {
   "cell_type": "code",
   "execution_count": null,
   "metadata": {},
   "outputs": [],
   "source": []
  },
  {
   "cell_type": "code",
   "execution_count": null,
   "metadata": {},
   "outputs": [],
   "source": []
  },
  {
   "cell_type": "code",
   "execution_count": 6,
   "metadata": {},
   "outputs": [],
   "source": [
    "from ddpg_agent import MultiAgent\n",
    "import torch\n",
    "import time\n",
    "from collections import deque\n",
    "from matplotlib import pyplot as plt\n",
    "\n",
    "#initialise agents\n",
    "agent = MultiAgent(seed=2, noise_start=0.5, update_every=2, gamma=1, t_stop_noise=30000)"
   ]
  },
  {
   "cell_type": "code",
   "execution_count": 9,
   "metadata": {},
   "outputs": [],
   "source": [
    "def maddpg(agent, n_episodes=100, max_t=700):\n",
    "    #n_episodes = 6000\n",
    "    #max_t = 1000\n",
    "    scores = []\n",
    "    scores_deque = deque(maxlen=100)\n",
    "    scores_avg = []\n",
    "    \n",
    "    start_time = time.time()     # Start time\n",
    "    solved = False\n",
    "    \n",
    "    #agent_tuple = {\"state_size\": state_size, \"action_size\": action_size, \"random_seed\": 2,}\n",
    "    #agents = [Agent(**agent_tuple) for _ in range(num_agents)]\n",
    "\n",
    "    for i_episode in range(1, n_episodes+1):\n",
    "        rewards = []\n",
    "        env_info = env.reset(train_mode=False)[brain_name]    # reset the environment    \n",
    "        #for agent in agents:\n",
    "        #    agent.reset()\n",
    "        state = env_info.vector_observations                  # get the current state (for each agent)\n",
    "        \n",
    "        # loop over steps\n",
    "        for t in range(max_t):\n",
    "            # select an action\n",
    "            action = agent.act(state)\n",
    "            # take action in environment and set parameters to new values\n",
    "            env_info = env.step(action)[brain_name]\n",
    "            next_state = env_info.vector_observations\n",
    "            rewards_ = env_info.rewards\n",
    "            done = env_info.local_done\n",
    "            # update and train agent with returned information\n",
    "            agent.step(state, action, rewards_, next_state, done)\n",
    "            state = next_state\n",
    "            rewards.append(rewards_)\n",
    "            if any(done):\n",
    "                break\n",
    "\n",
    "        # calculate episode reward as maximum of individually collected rewards of agents\n",
    "        episode_reward = np.max(np.sum(np.array(rewards),axis=0))\n",
    "        \n",
    "        scores.append(episode_reward)             # save most recent score to overall score array\n",
    "        scores_deque.append(episode_reward)       # save most recent score to running window of 100 last scores\n",
    "        current_avg_score = np.mean(scores_deque)\n",
    "        scores_avg.append(current_avg_score)      # save average of last 100 scores to average score array\n",
    "    \n",
    "        print('\\rEpisode {}\\tAverage Score: {:.3f}'.format(i_episode, current_avg_score),end=\"\")\n",
    "        \n",
    "        # log average score every 200 episodes\n",
    "        if i_episode % 200 == 0:\n",
    "            print('\\rEpisode {}\\tAverage Score: {:.3f}'.format(i_episode, current_avg_score))\n",
    "\n",
    "        # break and report success if environment is solved\n",
    "        if np.mean(scores_deque)>=.5 and solved == False:\n",
    "            print('\\nEnvironment solved in {:d} episodes!\\tAverage Score: {:.3f}'.format(i_episode, np.mean(scores_deque)))\n",
    "            agent.save_agents()\n",
    "            solved = True\n",
    "    \n",
    "    time_elapsed = time.time() - start_time\n",
    "    print(\"\\nTime Elapse: {:.3f}\".format(time_elapsed))\n",
    "    \n",
    "    return scores"
   ]
  },
  {
   "cell_type": "code",
   "execution_count": 10,
   "metadata": {},
   "outputs": [
    {
     "name": "stdout",
     "output_type": "stream",
     "text": [
      "Episode 200\tAverage Score: 0.005\n",
      "Episode 400\tAverage Score: 0.000\n",
      "Episode 600\tAverage Score: 0.000\n",
      "Episode 800\tAverage Score: 0.002\n",
      "Episode 1000\tAverage Score: 0.000\n",
      "Episode 1200\tAverage Score: 0.000\n",
      "Episode 1400\tAverage Score: 0.002\n",
      "Episode 1600\tAverage Score: 0.008\n",
      "Episode 1800\tAverage Score: 0.014\n",
      "Episode 2000\tAverage Score: 0.008\n",
      "Episode 2200\tAverage Score: 0.002\n",
      "Episode 2400\tAverage Score: 0.001\n",
      "Episode 2600\tAverage Score: 0.001\n",
      "Episode 2800\tAverage Score: 0.011\n",
      "Episode 3000\tAverage Score: 0.032\n",
      "Episode 3200\tAverage Score: 0.040\n",
      "Episode 3400\tAverage Score: 0.033\n",
      "Episode 3600\tAverage Score: 0.034\n",
      "Episode 3800\tAverage Score: 0.037\n",
      "Episode 4000\tAverage Score: 0.016\n",
      "Episode 4200\tAverage Score: 0.002\n",
      "Episode 4400\tAverage Score: 0.018\n",
      "Episode 4600\tAverage Score: 0.046\n",
      "Episode 4800\tAverage Score: 0.028\n",
      "Episode 5000\tAverage Score: 0.061\n",
      "Episode 5200\tAverage Score: 0.076\n",
      "Episode 5400\tAverage Score: 0.083\n",
      "Episode 5600\tAverage Score: 0.085\n",
      "Episode 5800\tAverage Score: 0.080\n",
      "Episode 6000\tAverage Score: 0.083\n",
      "\n",
      "Time Elapse: 15356.473\n"
     ]
    },
    {
     "data": {
      "image/png": "[encoded data removed]",
      "text/plain": [
       "<matplotlib.figure.Figure at 0x7fbe6ab2abe0>"
      ]
     },
     "metadata": {
      "needs_background": "light"
     },
     "output_type": "display_data"
    }
   ],
   "source": [
    "scores = maddpg(agent, 6000, 1000)\n",
    "\n",
    "fig = plt.figure()\n",
    "ax = fig.add_subplot(111)\n",
    "plt.plot(np.arange(1, len(scores)+1), scores)\n",
    "plt.ylabel('Score')\n",
    "plt.xlabel('Episode #')\n",
    "plt.show()"
   ]
  },
  {
   "cell_type": "code",
   "execution_count": 11,
   "metadata": {},
   "outputs": [],
   "source": [
    "env.close()"
   ]
  },
  {
   "cell_type": "code",
   "execution_count": null,
   "metadata": {},
   "outputs": [],
   "source": []
  }
 ],
 "metadata": {
  "kernelspec": {
   "display_name": "Python 3",
   "language": "python",
   "name": "python3"
  },
  "language_info": {
   "codemirror_mode": {
    "name": "ipython",
    "version": 3
   },
   "file_extension": ".py",
   "mimetype": "text/x-python",
   "name": "python",
   "nbconvert_exporter": "python",
   "pygments_lexer": "ipython3",
   "version": "3.6.3"
  }
 },
 "nbformat": 4,
 "nbformat_minor": 2
}
